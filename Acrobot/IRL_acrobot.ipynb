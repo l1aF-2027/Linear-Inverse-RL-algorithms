{
 "cells": [
  {
   "cell_type": "markdown",
   "metadata": {},
   "source": [
    "# Code"
   ]
  },
  {
   "cell_type": "code",
   "execution_count": 1,
   "metadata": {},
   "outputs": [],
   "source": [
    "%matplotlib inline\n",
    "\n",
    "import gym\n",
    "import itertools\n",
    "import matplotlib\n",
    "import matplotlib.pyplot as pltimport \n",
    "import warnings\n",
    "from datetime import datetime\n",
    "warnings.filterwarnings('ignore')\n",
    "import numpy as np\n",
    "import sklearn.pipeline\n",
    "import sklearn.preprocessing\n",
    "from sklearn.kernel_approximation import RBFSampler\n",
    "from collections import defaultdict\n",
    "import scipy\n",
    "from q_learning import *\n"
   ]
  },
  {
   "cell_type": "code",
   "execution_count": 2,
   "metadata": {},
   "outputs": [],
   "source": [
    "def normalization(env, observation_examples):\n",
    "    \"\"\"\n",
    "    Standardizes state observations by calculating their mean and variance.\n",
    "\n",
    "    Args:\n",
    "        env: Gym environment (used for consistency, though not directly required here).\n",
    "        observation_examples: An array of random state observations sampled from the environment.\n",
    "\n",
    "    Returns:\n",
    "        sklearn.preprocessing.StandardScaler: A scaler fitted to the observations.\n",
    "    \"\"\"\n",
    "    # Ensure the input is a 2D array\n",
    "    observation_examples = np.array(observation_examples).reshape(-1, env.observation_space.shape[0])\n",
    "    \n",
    "    # Fit a scaler to normalize the data\n",
    "    scaler = sklearn.preprocessing.StandardScaler()\n",
    "    scaler.fit(observation_examples)\n",
    "    \n",
    "    return scaler\n"
   ]
  },
  {
   "cell_type": "code",
   "execution_count": 3,
   "metadata": {},
   "outputs": [],
   "source": [
    "def featurizer_function(normalized_data, featureVecDim):\n",
    "    \"\"\"\n",
    "    Generates a feature transformation pipeline using radial basis function (RBF) kernels.\n",
    "\n",
    "    Args:\n",
    "        normalized_data: An array of normalized state observations.\n",
    "        featureVecDim: Target dimensionality for the feature transformation.\n",
    "\n",
    "    Returns:\n",
    "        sklearn.pipeline.FeatureUnion: A pipeline that transforms data into feature vectors.\n",
    "    \"\"\"\n",
    "    # Create an RBF-based featurizer with multiple scales\n",
    "    featurizer_vector = sklearn.pipeline.FeatureUnion([\n",
    "        (\"rbf1\", RBFSampler(gamma=0.5, n_components=featureVecDim // 3)),\n",
    "        (\"rbf2\", RBFSampler(gamma=0.25, n_components=featureVecDim // 3)),\n",
    "        (\"rbf3\", RBFSampler(gamma=0.1, n_components=featureVecDim - 2 * (featureVecDim // 3)))\n",
    "    ])\n",
    "    \n",
    "    # Ensure the normalized_data is a 2D array\n",
    "    normalized_data = np.array(normalized_data).reshape(-1, normalized_data.shape[1])\n",
    "    \n",
    "    # Fit the featurizer to the normalized position data\n",
    "    featurizer_vector.fit(normalized_data)\n",
    "    \n",
    "    return featurizer_vector"
   ]
  },
  {
   "cell_type": "code",
   "execution_count": 4,
   "metadata": {},
   "outputs": [],
   "source": [
    "def scaler_val(state, scaler):\n",
    "    # Chuẩn hóa toàn bộ vector trạng thái\n",
    "    normalized_state = (state - scaler.mean_) / scaler.var_\n",
    "    return normalized_state\n"
   ]
  },
  {
   "cell_type": "code",
   "execution_count": 5,
   "metadata": {},
   "outputs": [],
   "source": [
    "def UniformRandomPolicyGenerator(nA):\n",
    "    # nA = number of actions\n",
    "    def urpg(state):\n",
    "        return np.ones(nA, dtype=float)/nA\n",
    "    return urpg"
   ]
  },
  {
   "cell_type": "code",
   "execution_count": 6,
   "metadata": {},
   "outputs": [],
   "source": [
    "def RandomVectorGenerator(featureVecDim):\n",
    "    return 2*np.random.rand(featureVecDim)-1"
   ]
  },
  {
   "cell_type": "code",
   "execution_count": 7,
   "metadata": {},
   "outputs": [],
   "source": [
    "def max_dict(dictionary):\n",
    "    v_max=max(dictionary.values())\n",
    "    for key, value in dictionary.items():\n",
    "        if value == v_max:\n",
    "            return key"
   ]
  },
  {
   "cell_type": "code",
   "execution_count": 8,
   "metadata": {},
   "outputs": [],
   "source": [
    "def e_greedy_policy(estimator, nA,epsilon):\n",
    "    def policy_maker(observation):\n",
    "        A=np.ones(nA, dtype=float)*epsilon/nA\n",
    "        q_values=  estimator.predict(observation)\n",
    "        best_action=np.argmax(q_values)\n",
    "        A[best_action] += (1.0-epsilon)\n",
    "        return A\n",
    "    return policy_maker"
   ]
  },
  {
   "cell_type": "code",
   "execution_count": 9,
   "metadata": {},
   "outputs": [],
   "source": [
    "def reward(alpha_vec, featurizer_vector, scaler):\n",
    "    def reward_fn(state):\n",
    "        normalized_state = scaler.transform(np.array(state).reshape(1, -1))\n",
    "\n",
    "        # Áp dụng featurizer_vector trên state đã được chuẩn hóa\n",
    "        features = featurizer_vector.transform(normalized_state)\n",
    "\n",
    "        # Tính giá trị thưởng bằng dot product giữa alpha_vec và các đặc trưng\n",
    "        return np.dot(alpha_vec, features[0])\n",
    "    \n",
    "    return reward_fn\n"
   ]
  },
  {
   "cell_type": "code",
   "execution_count": 10,
   "metadata": {},
   "outputs": [],
   "source": [
    "def reward_plot(alpha_vec, featurizer_vector, scaler):\n",
    "    x = np.linspace(-np.pi, np.pi, 1000)\n",
    "    y = np.zeros(1000)\n",
    "    i = 0\n",
    "\n",
    "    for position in x:\n",
    "        state = np.array([position, 0, 0, 0, 0, 0])  \n",
    "\n",
    "        scaled_state = (state - scaler.mean_) / scaler.var_\n",
    "        scaled_state = scaled_state.reshape(1, -1) \n",
    "\n",
    "        transformed_state = featurizer_vector.transform(scaled_state)\n",
    "\n",
    "        y[i] = np.dot(alpha_vec, transformed_state[0])\n",
    "        i += 1\n",
    "\n",
    "    plt.plot(x, y, linewidth=2.0)\n",
    "    plt.title(\"Reward Function\")\n",
    "    plt.xlabel(\"State (Position)\")\n",
    "    plt.ylabel(\"Reward\")\n",
    "    plt.savefig(\"acrobot_videos\\\\reward_function.png\", dpi=300, bbox_inches='tight')\n",
    "    plt.show()\n"
   ]
  },
  {
   "cell_type": "code",
   "execution_count": 11,
   "metadata": {},
   "outputs": [],
   "source": [
    "def ValueFunctionGenerator(env, alpha_vec, policy, featurizer_vec, scaler, featureVecDim, num_trajectories, discount_factor):\n",
    "    \"\"\"\n",
    "    Calculates the value and value vector of the start state: V(s0).\n",
    "    \"\"\"\n",
    "    v_basis = np.zeros(featureVecDim)\n",
    "    episode = defaultdict(list) \n",
    "    for i in range(num_trajectories):\n",
    "        state = env.reset()\n",
    "        done = False\n",
    "        for _ in range(200):    \n",
    "            prob = policy(state)\n",
    "            action = np.random.choice(np.arange(len(prob)), p=prob)\n",
    "            new_observations = env.step(action)\n",
    "            next_state = new_observations[0]\n",
    "            done = new_observations[2]\n",
    "            if done:\n",
    "                break\n",
    "            episode[i].append((state, action))\n",
    "            state = next_state\n",
    "        \n",
    "        j = 0\n",
    "        for state, action in episode[i]:\n",
    "            scaled_state = scaler_val(state, scaler)\n",
    "            # Đảm bảo scaled_state là mảng 2D\n",
    "            scaled_state = np.array(scaled_state).reshape(1, -1)\n",
    "\n",
    "            # scaled_state = np.atleast_2d(scaled_state)\n",
    "            \n",
    "            # transformed_state = featurizer_vec.transform(scaled_state)\n",
    "            scaled_state = scaler_val(state, scaler)\n",
    "            scaled_state = np.array(scaled_state).reshape(1, -1)  # Đảm bảo 2D array\n",
    "            transformed_state = featurizer_vec.transform(scaled_state)\n",
    "\n",
    "            \n",
    "            v_basis += transformed_state[0] * (discount_factor)**j\n",
    "            j += 1\n",
    "\n",
    "    v_basis_net = v_basis / num_trajectories\n",
    "    V = np.dot(alpha_vec, v_basis_net)\n",
    "    return V, v_basis_net\n"
   ]
  },
  {
   "cell_type": "code",
   "execution_count": 12,
   "metadata": {
    "scrolled": true
   },
   "outputs": [],
   "source": [
    "def irl(env, alpha_vec,featurizer_vector, scaler, featurizer, normalized_data, featureVecDim, policy_dbe,num_trajectories=200, num_episodes=100, max_epoch=10, discount_factor=1, penalty_factor=2, epsilon_v=0.0):\n",
    "    \"\"\"\n",
    "    The algorithm to learn a reward function given expert policy/trajectories.\n",
    "    \n",
    "    Args:\n",
    "        env: Gym environment\n",
    "        alpha_vec: The alpha vector (variable) to be learnt.\n",
    "        featurizer_vector: The container for basis fuctions(RBF kernals in this case).\n",
    "        scaler: Mean and variance of the state values.\n",
    "        featurizer: The container used for generating expert trajectories.\n",
    "        normalized_data: An array of 10000 normalized state::[position, velocity] values.\n",
    "        featureVecDim: Dimension of ϕ vector.(feature vector/Basis vector)\n",
    "        policy_dbe: \"Demostration by expert\" policy.==Expert policy\n",
    "        num_trajectories: Expert trajectories taken under consideration\n",
    "        num_episodes: Number of episodes for which the RL code is run. \n",
    "        max_iter: Maximum number of episodes\n",
    "        penalty_factor: Refer the paper for more details\n",
    "        epsilon_v: ϵ value for Epsilon greedy policy\n",
    "        \n",
    "    Returns:\n",
    "        Reward Function R(s).\n",
    "        Alpha Vector: α = [α0 α1 .. αn]\n",
    "    \"\"\"\n",
    "    # Initializing Variables\n",
    "    nP=0                                    # number of epochs\n",
    "    V_vec = defaultdict(float)\n",
    "    V_policy_basis = defaultdict(list)\n",
    "    V_input = np.zeros(featureVecDim)\n",
    "    \n",
    "    # Calculating V* value for the best DBE policy that we already have.\n",
    "    V_dbe, V_dbe_basis = ValueFunctionGenerator(env,alpha_vec, policy_dbe,featurizer_vector,scaler,featureVecDim, num_trajectories, discount_factor)\n",
    "    print(\"-------------------------------\")\n",
    "    print(\"| V_dbe | \",V_dbe,\" |\")\n",
    "    print(\"-------------------------------\")\n",
    "    print(\"\")\n",
    "    \n",
    "    # Iterating part of the code : new learnt policy with each new iteration\n",
    "    \n",
    "    while True:\n",
    "        print(\"############################################################################\")\n",
    "        print(\"Starting epoch {} .... \".format(nP))\n",
    "        print(\"Alpha_vec value at the start of the epoch = {}\".format(alpha_vec)) \n",
    "        \n",
    "        # Uniform Random policy\n",
    "        if nP ==0:\n",
    "            policy_ = UniformRandomPolicyGenerator(env.action_space.n)\n",
    "        \n",
    "        V_vec[nP], V_policy_basis[nP] = ValueFunctionGenerator(env,alpha_vec, policy_,featurizer_vector,scaler,featureVecDim,num_trajectories, discount_factor)\n",
    "        print(\"New policy value based on previous alpha, V_vec[np] = {}\".format(V_vec[nP]))\n",
    "    \n",
    "    \n",
    "        # Linear Programming optimization\n",
    "        print(\"_____________________________LP starts_______________________________\")\n",
    "        \n",
    "        # nP_best: Iteration with the max value according to the present alpha_vec.\n",
    "        nP_best = max_dict(V_vec)\n",
    "        \n",
    "        print(\"nP_best =\", nP_best)\n",
    "        print(\"nP_best_value based on old alpha =\", V_vec[nP_best])\n",
    "        print(\"DBE_value based on old alpha =\", V_dbe)\n",
    "        \n",
    "        # if V_dbe - V_vec[nP] >= 0:\n",
    "        #     V_input += V_policy_basis[nP] - V_dbe_basis\n",
    "        # else:\n",
    "        #     V_input += penalty_factor* (V_policy_basis[nP] - V_dbe_basis)\n",
    "        \n",
    "        # res = scipy.optimize.linprog(V_input, bounds=(-1,1), method=\"simplex\")\n",
    "        \n",
    "        \n",
    "        if V_dbe - V_vec[nP] >= 0:\n",
    "            V_input += V_policy_basis[nP] - V_dbe_basis\n",
    "        else:\n",
    "            V_input += penalty_factor * (V_policy_basis[nP] - V_dbe_basis)\n",
    "\n",
    "        # Duy trì V_input trong đúng bounds\n",
    "        res = scipy.optimize.linprog(V_input, bounds=[(-1, 1)] * featureVecDim, method=\"simplex\")\n",
    "\n",
    "        \n",
    "        print(\"**********LP results******************************************************\")\n",
    "        print(\"                       \")\n",
    "        #print(res)\n",
    "        print(\"new alpha_vec = \", res.x)\n",
    "        print(\"                       \")\n",
    "        print(\"**************************************************************************\")\n",
    "        \n",
    "        alpha_vec_new = res.x\n",
    "        \n",
    "        # New V-dbe value based on new alpha\n",
    "        V_dbe_new = np.dot(alpha_vec_new,V_dbe_basis)\n",
    "        \n",
    "        # Updating old values with new values\n",
    "        alpha_vec = alpha_vec_new\n",
    "        V_dbe = V_dbe_new\n",
    "        \n",
    "        # Editing v_vec values based on new alpha\n",
    "        for i,list_ in V_policy_basis.items():\n",
    "            V_vec[i] = np.dot(list_,alpha_vec)\n",
    "        \n",
    "        print(\"According to new alpha, V_dbe = \", V_dbe_new)\n",
    "        print(\"New V_vec[max] in existing values\", V_vec[max_dict(V_vec)])\n",
    "        print(\"_________________________________________________________________________\")\n",
    "        print(\"Plotting reward function based on alpha_vec start value.....\")\n",
    "        \n",
    "        reward_plot(alpha_vec, featurizer_vector,scaler)\n",
    "\n",
    "        # Reinforcement learning using the learnt reward function to generate new policy\n",
    "        \n",
    "        print(\"Q learning starts..........\")\n",
    "        # Given the new alpha_vec, update the rewards function and find a new policy\n",
    "        reward_fn = reward(alpha_vec,featurizer_vector,scaler)\n",
    "        nP +=1\n",
    "        \n",
    "        estimator = Estimator(env,scaler,featurizer)\n",
    "        min_iter_length = q_learning(env, estimator, reward_fn, num_episodes,print_ep_details=False) \n",
    "        policy_ = e_greedy_policy(estimator, env.action_space.n,epsilon_v)\n",
    "        \"\"\"\n",
    "        ** For printing iterations with number of timesteps it took, set \n",
    "        {print_ep_details=True} in q_learning().Highly Suggested for starting analysis.\n",
    "        \"\"\"\n",
    "    \n",
    "        if nP > max_epoch:\n",
    "            break\n",
    "        print(\"############################################################################\")\n",
    "    \n",
    "    \n",
    "    return reward_fn, alpha_vec"
   ]
  },
  {
   "cell_type": "code",
   "execution_count": 13,
   "metadata": {},
   "outputs": [
    {
     "name": "stderr",
     "output_type": "stream",
     "text": [
      "  7%|▋         | 68/1000 [00:46<10:32,  1.47it/s]\n"
     ]
    },
    {
     "ename": "KeyboardInterrupt",
     "evalue": "",
     "output_type": "error",
     "traceback": [
      "\u001b[1;31m---------------------------------------------------------------------------\u001b[0m",
      "\u001b[1;31mKeyboardInterrupt\u001b[0m                         Traceback (most recent call last)",
      "Cell \u001b[1;32mIn[13], line 14\u001b[0m\n\u001b[0;32m     11\u001b[0m \u001b[38;5;66;03m# Tạo featurizer\u001b[39;00m\n\u001b[0;32m     12\u001b[0m featurizer \u001b[38;5;241m=\u001b[39m featurizer_function(normalized_data, featureVecDim)\n\u001b[1;32m---> 14\u001b[0m policy_dbe, estimator_dbe \u001b[38;5;241m=\u001b[39m \u001b[43mpolicy_f\u001b[49m\u001b[43m(\u001b[49m\u001b[43menv\u001b[49m\u001b[43m,\u001b[49m\u001b[43m \u001b[49m\u001b[43mscaler\u001b[49m\u001b[43m,\u001b[49m\u001b[43m \u001b[49m\u001b[43mfeaturizer\u001b[49m\u001b[43m,\u001b[49m\u001b[43m \u001b[49m\u001b[43mprint_ep_lens\u001b[49m\u001b[38;5;241;43m=\u001b[39;49m\u001b[38;5;28;43;01mFalse\u001b[39;49;00m\u001b[43m)\u001b[49m\n",
      "File \u001b[1;32md:\\ASUS\\Trí tuệ nhân tạo nâng cao - CS211\\Linear-Inverse-RL-algorithms\\Acrobot\\q_learning.py:128\u001b[0m, in \u001b[0;36mpolicy_f\u001b[1;34m(env, scaler, featurizer, print_ep_lens)\u001b[0m\n\u001b[0;32m    125\u001b[0m estimator \u001b[38;5;241m=\u001b[39m Estimator(env, scaler, featurizer)\n\u001b[0;32m    127\u001b[0m \u001b[38;5;66;03m# Huấn luyện chính sách tốt nhất với Q-learning\u001b[39;00m\n\u001b[1;32m--> 128\u001b[0m stats \u001b[38;5;241m=\u001b[39m \u001b[43mq_learning_best_policy\u001b[49m\u001b[43m(\u001b[49m\u001b[43menv\u001b[49m\u001b[43m,\u001b[49m\u001b[43m \u001b[49m\u001b[43mestimator\u001b[49m\u001b[43m,\u001b[49m\u001b[43m \u001b[49m\u001b[43mnum_episodes\u001b[49m\u001b[38;5;241;43m=\u001b[39;49m\u001b[38;5;241;43m1000\u001b[39;49m\u001b[43m,\u001b[49m\u001b[43m \u001b[49m\u001b[43mepsilon\u001b[49m\u001b[38;5;241;43m=\u001b[39;49m\u001b[38;5;241;43m0.1\u001b[39;49m\u001b[43m,\u001b[49m\u001b[43m \u001b[49m\u001b[43mepsilon_decay\u001b[49m\u001b[38;5;241;43m=\u001b[39;49m\u001b[38;5;241;43m0.99\u001b[39;49m\u001b[43m,\u001b[49m\u001b[43m \u001b[49m\u001b[43mprint_ep_lens\u001b[49m\u001b[38;5;241;43m=\u001b[39;49m\u001b[43mprint_ep_lens\u001b[49m\u001b[43m)\u001b[49m\n\u001b[0;32m    130\u001b[0m \u001b[38;5;28mprint\u001b[39m(\u001b[38;5;124m\"\u001b[39m\u001b[38;5;124m___Plotting Learning Stats of the Agent____\u001b[39m\u001b[38;5;124m\"\u001b[39m)\n\u001b[0;32m    132\u001b[0m \u001b[38;5;66;03m# Vẽ các biểu đồ thống kê\u001b[39;00m\n",
      "File \u001b[1;32md:\\ASUS\\Trí tuệ nhân tạo nâng cao - CS211\\Linear-Inverse-RL-algorithms\\Acrobot\\q_learning.py:204\u001b[0m, in \u001b[0;36mq_learning_best_policy\u001b[1;34m(env, estimator, num_episodes, discount_factor, epsilon, epsilon_decay, print_ep_lens)\u001b[0m\n\u001b[0;32m    202\u001b[0m q_values_next \u001b[38;5;241m=\u001b[39m estimator\u001b[38;5;241m.\u001b[39mpredict(next_state)\n\u001b[0;32m    203\u001b[0m td_target \u001b[38;5;241m=\u001b[39m reward \u001b[38;5;241m+\u001b[39m discount_factor \u001b[38;5;241m*\u001b[39m np\u001b[38;5;241m.\u001b[39mmax(q_values_next)\n\u001b[1;32m--> 204\u001b[0m \u001b[43mestimator\u001b[49m\u001b[38;5;241;43m.\u001b[39;49m\u001b[43mupdate\u001b[49m\u001b[43m(\u001b[49m\u001b[43mstate\u001b[49m\u001b[43m,\u001b[49m\u001b[43m \u001b[49m\u001b[43maction\u001b[49m\u001b[43m,\u001b[49m\u001b[43m \u001b[49m\u001b[43mtd_target\u001b[49m\u001b[43m)\u001b[49m\n\u001b[0;32m    206\u001b[0m state \u001b[38;5;241m=\u001b[39m next_state\n\u001b[0;32m    207\u001b[0m d \u001b[38;5;241m+\u001b[39m\u001b[38;5;241m=\u001b[39m \u001b[38;5;241m1\u001b[39m\n",
      "File \u001b[1;32md:\\ASUS\\Trí tuệ nhân tạo nâng cao - CS211\\Linear-Inverse-RL-algorithms\\Acrobot\\q_learning.py:98\u001b[0m, in \u001b[0;36mEstimator.update\u001b[1;34m(self, s, a, y)\u001b[0m\n\u001b[0;32m     93\u001b[0m \u001b[38;5;250m\u001b[39m\u001b[38;5;124;03m\"\"\"\u001b[39;00m\n\u001b[0;32m     94\u001b[0m \u001b[38;5;124;03mUpdates the estimator parameters for a given state and action towards\u001b[39;00m\n\u001b[0;32m     95\u001b[0m \u001b[38;5;124;03mthe target y.\u001b[39;00m\n\u001b[0;32m     96\u001b[0m \u001b[38;5;124;03m\"\"\"\u001b[39;00m\n\u001b[0;32m     97\u001b[0m feature_vec \u001b[38;5;241m=\u001b[39m \u001b[38;5;28mself\u001b[39m\u001b[38;5;241m.\u001b[39mfeaturize_state(s)\n\u001b[1;32m---> 98\u001b[0m \u001b[43m(\u001b[49m\u001b[38;5;28;43mself\u001b[39;49m\u001b[38;5;241;43m.\u001b[39;49m\u001b[43mmodels\u001b[49m\u001b[43m[\u001b[49m\u001b[43ma\u001b[49m\u001b[43m]\u001b[49m\u001b[43m)\u001b[49m\u001b[38;5;241;43m.\u001b[39;49m\u001b[43mpartial_fit\u001b[49m\u001b[43m(\u001b[49m\u001b[43m[\u001b[49m\u001b[43mfeature_vec\u001b[49m\u001b[43m]\u001b[49m\u001b[43m,\u001b[49m\u001b[43m \u001b[49m\u001b[43m[\u001b[49m\u001b[43my\u001b[49m\u001b[43m]\u001b[49m\u001b[43m)\u001b[49m\n",
      "File \u001b[1;32mc:\\Users\\hoang\\AppData\\Local\\Programs\\Python\\Python310\\lib\\site-packages\\sklearn\\base.py:1473\u001b[0m, in \u001b[0;36m_fit_context.<locals>.decorator.<locals>.wrapper\u001b[1;34m(estimator, *args, **kwargs)\u001b[0m\n\u001b[0;32m   1466\u001b[0m     estimator\u001b[38;5;241m.\u001b[39m_validate_params()\n\u001b[0;32m   1468\u001b[0m \u001b[38;5;28;01mwith\u001b[39;00m config_context(\n\u001b[0;32m   1469\u001b[0m     skip_parameter_validation\u001b[38;5;241m=\u001b[39m(\n\u001b[0;32m   1470\u001b[0m         prefer_skip_nested_validation \u001b[38;5;129;01mor\u001b[39;00m global_skip_validation\n\u001b[0;32m   1471\u001b[0m     )\n\u001b[0;32m   1472\u001b[0m ):\n\u001b[1;32m-> 1473\u001b[0m     \u001b[38;5;28;01mreturn\u001b[39;00m fit_method(estimator, \u001b[38;5;241m*\u001b[39margs, \u001b[38;5;241m*\u001b[39m\u001b[38;5;241m*\u001b[39mkwargs)\n",
      "File \u001b[1;32mc:\\Users\\hoang\\AppData\\Local\\Programs\\Python\\Python310\\lib\\site-packages\\sklearn\\linear_model\\_stochastic_gradient.py:1551\u001b[0m, in \u001b[0;36mBaseSGDRegressor.partial_fit\u001b[1;34m(self, X, y, sample_weight)\u001b[0m\n\u001b[0;32m   1548\u001b[0m \u001b[38;5;28;01mif\u001b[39;00m \u001b[38;5;129;01mnot\u001b[39;00m \u001b[38;5;28mhasattr\u001b[39m(\u001b[38;5;28mself\u001b[39m, \u001b[38;5;124m\"\u001b[39m\u001b[38;5;124mcoef_\u001b[39m\u001b[38;5;124m\"\u001b[39m):\n\u001b[0;32m   1549\u001b[0m     \u001b[38;5;28mself\u001b[39m\u001b[38;5;241m.\u001b[39m_more_validate_params(for_partial_fit\u001b[38;5;241m=\u001b[39m\u001b[38;5;28;01mTrue\u001b[39;00m)\n\u001b[1;32m-> 1551\u001b[0m \u001b[38;5;28;01mreturn\u001b[39;00m \u001b[38;5;28;43mself\u001b[39;49m\u001b[38;5;241;43m.\u001b[39;49m\u001b[43m_partial_fit\u001b[49m\u001b[43m(\u001b[49m\n\u001b[0;32m   1552\u001b[0m \u001b[43m    \u001b[49m\u001b[43mX\u001b[49m\u001b[43m,\u001b[49m\n\u001b[0;32m   1553\u001b[0m \u001b[43m    \u001b[49m\u001b[43my\u001b[49m\u001b[43m,\u001b[49m\n\u001b[0;32m   1554\u001b[0m \u001b[43m    \u001b[49m\u001b[38;5;28;43mself\u001b[39;49m\u001b[38;5;241;43m.\u001b[39;49m\u001b[43malpha\u001b[49m\u001b[43m,\u001b[49m\n\u001b[0;32m   1555\u001b[0m \u001b[43m    \u001b[49m\u001b[43mC\u001b[49m\u001b[38;5;241;43m=\u001b[39;49m\u001b[38;5;241;43m1.0\u001b[39;49m\u001b[43m,\u001b[49m\n\u001b[0;32m   1556\u001b[0m \u001b[43m    \u001b[49m\u001b[43mloss\u001b[49m\u001b[38;5;241;43m=\u001b[39;49m\u001b[38;5;28;43mself\u001b[39;49m\u001b[38;5;241;43m.\u001b[39;49m\u001b[43mloss\u001b[49m\u001b[43m,\u001b[49m\n\u001b[0;32m   1557\u001b[0m \u001b[43m    \u001b[49m\u001b[43mlearning_rate\u001b[49m\u001b[38;5;241;43m=\u001b[39;49m\u001b[38;5;28;43mself\u001b[39;49m\u001b[38;5;241;43m.\u001b[39;49m\u001b[43mlearning_rate\u001b[49m\u001b[43m,\u001b[49m\n\u001b[0;32m   1558\u001b[0m \u001b[43m    \u001b[49m\u001b[43mmax_iter\u001b[49m\u001b[38;5;241;43m=\u001b[39;49m\u001b[38;5;241;43m1\u001b[39;49m\u001b[43m,\u001b[49m\n\u001b[0;32m   1559\u001b[0m \u001b[43m    \u001b[49m\u001b[43msample_weight\u001b[49m\u001b[38;5;241;43m=\u001b[39;49m\u001b[43msample_weight\u001b[49m\u001b[43m,\u001b[49m\n\u001b[0;32m   1560\u001b[0m \u001b[43m    \u001b[49m\u001b[43mcoef_init\u001b[49m\u001b[38;5;241;43m=\u001b[39;49m\u001b[38;5;28;43;01mNone\u001b[39;49;00m\u001b[43m,\u001b[49m\n\u001b[0;32m   1561\u001b[0m \u001b[43m    \u001b[49m\u001b[43mintercept_init\u001b[49m\u001b[38;5;241;43m=\u001b[39;49m\u001b[38;5;28;43;01mNone\u001b[39;49;00m\u001b[43m,\u001b[49m\n\u001b[0;32m   1562\u001b[0m \u001b[43m\u001b[49m\u001b[43m)\u001b[49m\n",
      "File \u001b[1;32mc:\\Users\\hoang\\AppData\\Local\\Programs\\Python\\Python310\\lib\\site-packages\\sklearn\\linear_model\\_stochastic_gradient.py:1516\u001b[0m, in \u001b[0;36mBaseSGDRegressor._partial_fit\u001b[1;34m(self, X, y, alpha, C, loss, learning_rate, max_iter, sample_weight, coef_init, intercept_init)\u001b[0m\n\u001b[0;32m   1513\u001b[0m     \u001b[38;5;28mself\u001b[39m\u001b[38;5;241m.\u001b[39m_average_coef \u001b[38;5;241m=\u001b[39m np\u001b[38;5;241m.\u001b[39mzeros(n_features, dtype\u001b[38;5;241m=\u001b[39mX\u001b[38;5;241m.\u001b[39mdtype, order\u001b[38;5;241m=\u001b[39m\u001b[38;5;124m\"\u001b[39m\u001b[38;5;124mC\u001b[39m\u001b[38;5;124m\"\u001b[39m)\n\u001b[0;32m   1514\u001b[0m     \u001b[38;5;28mself\u001b[39m\u001b[38;5;241m.\u001b[39m_average_intercept \u001b[38;5;241m=\u001b[39m np\u001b[38;5;241m.\u001b[39mzeros(\u001b[38;5;241m1\u001b[39m, dtype\u001b[38;5;241m=\u001b[39mX\u001b[38;5;241m.\u001b[39mdtype, order\u001b[38;5;241m=\u001b[39m\u001b[38;5;124m\"\u001b[39m\u001b[38;5;124mC\u001b[39m\u001b[38;5;124m\"\u001b[39m)\n\u001b[1;32m-> 1516\u001b[0m \u001b[38;5;28;43mself\u001b[39;49m\u001b[38;5;241;43m.\u001b[39;49m\u001b[43m_fit_regressor\u001b[49m\u001b[43m(\u001b[49m\n\u001b[0;32m   1517\u001b[0m \u001b[43m    \u001b[49m\u001b[43mX\u001b[49m\u001b[43m,\u001b[49m\u001b[43m \u001b[49m\u001b[43my\u001b[49m\u001b[43m,\u001b[49m\u001b[43m \u001b[49m\u001b[43malpha\u001b[49m\u001b[43m,\u001b[49m\u001b[43m \u001b[49m\u001b[43mC\u001b[49m\u001b[43m,\u001b[49m\u001b[43m \u001b[49m\u001b[43mloss\u001b[49m\u001b[43m,\u001b[49m\u001b[43m \u001b[49m\u001b[43mlearning_rate\u001b[49m\u001b[43m,\u001b[49m\u001b[43m \u001b[49m\u001b[43msample_weight\u001b[49m\u001b[43m,\u001b[49m\u001b[43m \u001b[49m\u001b[43mmax_iter\u001b[49m\n\u001b[0;32m   1518\u001b[0m \u001b[43m\u001b[49m\u001b[43m)\u001b[49m\n\u001b[0;32m   1520\u001b[0m \u001b[38;5;28;01mreturn\u001b[39;00m \u001b[38;5;28mself\u001b[39m\n",
      "File \u001b[1;32mc:\\Users\\hoang\\AppData\\Local\\Programs\\Python\\Python310\\lib\\site-packages\\sklearn\\linear_model\\_stochastic_gradient.py:1739\u001b[0m, in \u001b[0;36mBaseSGDRegressor._fit_regressor\u001b[1;34m(self, X, y, alpha, C, loss, learning_rate, sample_weight, max_iter)\u001b[0m\n\u001b[0;32m   1736\u001b[0m     average_intercept \u001b[38;5;241m=\u001b[39m [\u001b[38;5;241m0\u001b[39m]  \u001b[38;5;66;03m# Not used\u001b[39;00m\n\u001b[0;32m   1738\u001b[0m _plain_sgd \u001b[38;5;241m=\u001b[39m _get_plain_sgd_function(input_dtype\u001b[38;5;241m=\u001b[39mcoef\u001b[38;5;241m.\u001b[39mdtype)\n\u001b[1;32m-> 1739\u001b[0m coef, intercept, average_coef, average_intercept, \u001b[38;5;28mself\u001b[39m\u001b[38;5;241m.\u001b[39mn_iter_ \u001b[38;5;241m=\u001b[39m \u001b[43m_plain_sgd\u001b[49m\u001b[43m(\u001b[49m\n\u001b[0;32m   1740\u001b[0m \u001b[43m    \u001b[49m\u001b[43mcoef\u001b[49m\u001b[43m,\u001b[49m\n\u001b[0;32m   1741\u001b[0m \u001b[43m    \u001b[49m\u001b[43mintercept\u001b[49m\u001b[43m[\u001b[49m\u001b[38;5;241;43m0\u001b[39;49m\u001b[43m]\u001b[49m\u001b[43m,\u001b[49m\n\u001b[0;32m   1742\u001b[0m \u001b[43m    \u001b[49m\u001b[43maverage_coef\u001b[49m\u001b[43m,\u001b[49m\n\u001b[0;32m   1743\u001b[0m \u001b[43m    \u001b[49m\u001b[43maverage_intercept\u001b[49m\u001b[43m[\u001b[49m\u001b[38;5;241;43m0\u001b[39;49m\u001b[43m]\u001b[49m\u001b[43m,\u001b[49m\n\u001b[0;32m   1744\u001b[0m \u001b[43m    \u001b[49m\u001b[43mloss_function\u001b[49m\u001b[43m,\u001b[49m\n\u001b[0;32m   1745\u001b[0m \u001b[43m    \u001b[49m\u001b[43mpenalty_type\u001b[49m\u001b[43m,\u001b[49m\n\u001b[0;32m   1746\u001b[0m \u001b[43m    \u001b[49m\u001b[43malpha\u001b[49m\u001b[43m,\u001b[49m\n\u001b[0;32m   1747\u001b[0m \u001b[43m    \u001b[49m\u001b[43mC\u001b[49m\u001b[43m,\u001b[49m\n\u001b[0;32m   1748\u001b[0m \u001b[43m    \u001b[49m\u001b[38;5;28;43mself\u001b[39;49m\u001b[38;5;241;43m.\u001b[39;49m\u001b[43ml1_ratio\u001b[49m\u001b[43m,\u001b[49m\n\u001b[0;32m   1749\u001b[0m \u001b[43m    \u001b[49m\u001b[43mdataset\u001b[49m\u001b[43m,\u001b[49m\n\u001b[0;32m   1750\u001b[0m \u001b[43m    \u001b[49m\u001b[43mvalidation_mask\u001b[49m\u001b[43m,\u001b[49m\n\u001b[0;32m   1751\u001b[0m \u001b[43m    \u001b[49m\u001b[38;5;28;43mself\u001b[39;49m\u001b[38;5;241;43m.\u001b[39;49m\u001b[43mearly_stopping\u001b[49m\u001b[43m,\u001b[49m\n\u001b[0;32m   1752\u001b[0m \u001b[43m    \u001b[49m\u001b[43mvalidation_score_cb\u001b[49m\u001b[43m,\u001b[49m\n\u001b[0;32m   1753\u001b[0m \u001b[43m    \u001b[49m\u001b[38;5;28;43mint\u001b[39;49m\u001b[43m(\u001b[49m\u001b[38;5;28;43mself\u001b[39;49m\u001b[38;5;241;43m.\u001b[39;49m\u001b[43mn_iter_no_change\u001b[49m\u001b[43m)\u001b[49m\u001b[43m,\u001b[49m\n\u001b[0;32m   1754\u001b[0m \u001b[43m    \u001b[49m\u001b[43mmax_iter\u001b[49m\u001b[43m,\u001b[49m\n\u001b[0;32m   1755\u001b[0m \u001b[43m    \u001b[49m\u001b[43mtol\u001b[49m\u001b[43m,\u001b[49m\n\u001b[0;32m   1756\u001b[0m \u001b[43m    \u001b[49m\u001b[38;5;28;43mint\u001b[39;49m\u001b[43m(\u001b[49m\u001b[38;5;28;43mself\u001b[39;49m\u001b[38;5;241;43m.\u001b[39;49m\u001b[43mfit_intercept\u001b[49m\u001b[43m)\u001b[49m\u001b[43m,\u001b[49m\n\u001b[0;32m   1757\u001b[0m \u001b[43m    \u001b[49m\u001b[38;5;28;43mint\u001b[39;49m\u001b[43m(\u001b[49m\u001b[38;5;28;43mself\u001b[39;49m\u001b[38;5;241;43m.\u001b[39;49m\u001b[43mverbose\u001b[49m\u001b[43m)\u001b[49m\u001b[43m,\u001b[49m\n\u001b[0;32m   1758\u001b[0m \u001b[43m    \u001b[49m\u001b[38;5;28;43mint\u001b[39;49m\u001b[43m(\u001b[49m\u001b[38;5;28;43mself\u001b[39;49m\u001b[38;5;241;43m.\u001b[39;49m\u001b[43mshuffle\u001b[49m\u001b[43m)\u001b[49m\u001b[43m,\u001b[49m\n\u001b[0;32m   1759\u001b[0m \u001b[43m    \u001b[49m\u001b[43mseed\u001b[49m\u001b[43m,\u001b[49m\n\u001b[0;32m   1760\u001b[0m \u001b[43m    \u001b[49m\u001b[38;5;241;43m1.0\u001b[39;49m\u001b[43m,\u001b[49m\n\u001b[0;32m   1761\u001b[0m \u001b[43m    \u001b[49m\u001b[38;5;241;43m1.0\u001b[39;49m\u001b[43m,\u001b[49m\n\u001b[0;32m   1762\u001b[0m \u001b[43m    \u001b[49m\u001b[43mlearning_rate_type\u001b[49m\u001b[43m,\u001b[49m\n\u001b[0;32m   1763\u001b[0m \u001b[43m    \u001b[49m\u001b[38;5;28;43mself\u001b[39;49m\u001b[38;5;241;43m.\u001b[39;49m\u001b[43meta0\u001b[49m\u001b[43m,\u001b[49m\n\u001b[0;32m   1764\u001b[0m \u001b[43m    \u001b[49m\u001b[38;5;28;43mself\u001b[39;49m\u001b[38;5;241;43m.\u001b[39;49m\u001b[43mpower_t\u001b[49m\u001b[43m,\u001b[49m\n\u001b[0;32m   1765\u001b[0m \u001b[43m    \u001b[49m\u001b[38;5;241;43m0\u001b[39;49m\u001b[43m,\u001b[49m\n\u001b[0;32m   1766\u001b[0m \u001b[43m    \u001b[49m\u001b[38;5;28;43mself\u001b[39;49m\u001b[38;5;241;43m.\u001b[39;49m\u001b[43mt_\u001b[49m\u001b[43m,\u001b[49m\n\u001b[0;32m   1767\u001b[0m \u001b[43m    \u001b[49m\u001b[43mintercept_decay\u001b[49m\u001b[43m,\u001b[49m\n\u001b[0;32m   1768\u001b[0m \u001b[43m    \u001b[49m\u001b[38;5;28;43mself\u001b[39;49m\u001b[38;5;241;43m.\u001b[39;49m\u001b[43maverage\u001b[49m\u001b[43m,\u001b[49m\n\u001b[0;32m   1769\u001b[0m \u001b[43m\u001b[49m\u001b[43m)\u001b[49m\n\u001b[0;32m   1771\u001b[0m \u001b[38;5;28mself\u001b[39m\u001b[38;5;241m.\u001b[39mt_ \u001b[38;5;241m+\u001b[39m\u001b[38;5;241m=\u001b[39m \u001b[38;5;28mself\u001b[39m\u001b[38;5;241m.\u001b[39mn_iter_ \u001b[38;5;241m*\u001b[39m X\u001b[38;5;241m.\u001b[39mshape[\u001b[38;5;241m0\u001b[39m]\n\u001b[0;32m   1773\u001b[0m \u001b[38;5;28;01mif\u001b[39;00m \u001b[38;5;28mself\u001b[39m\u001b[38;5;241m.\u001b[39maverage \u001b[38;5;241m>\u001b[39m \u001b[38;5;241m0\u001b[39m:\n",
      "\u001b[1;31mKeyboardInterrupt\u001b[0m: "
     ]
    }
   ],
   "source": [
    "import gym\n",
    "env = gym.make(\"Acrobot-v1\").env  \n",
    "\n",
    "# Global_variables\n",
    "featureVecDim= 500\n",
    "\n",
    "observation_examples = np.array([env.observation_space.sample() for _ in range(10000)])\n",
    "scaler = normalization(env, observation_examples)\n",
    "normalized_data = scaler.transform(observation_examples)\n",
    "os.makedirs('acrobot_videos', exist_ok=True)\n",
    "# Tạo featurizer\n",
    "featurizer = featurizer_function(normalized_data, featureVecDim)\n",
    "\n",
    "policy_dbe, estimator_dbe = policy_f(env, scaler, featurizer, print_ep_lens=False)\n"
   ]
  },
  {
   "cell_type": "code",
   "execution_count": 14,
   "metadata": {},
   "outputs": [],
   "source": [
    "# Basis functions Container / Feature Vector Container\n",
    "featurizer_vector = featurizer_function(normalized_data, featureVecDim)\n",
    "alpha_vec = RandomVectorGenerator(featureVecDim)"
   ]
  },
  {
   "cell_type": "code",
   "execution_count": null,
   "metadata": {},
   "outputs": [
    {
     "data": {
      "image/png": "[encoded data removed]",
      "text/plain": [
       "<Figure size 640x480 with 1 Axes>"
      ]
     },
     "metadata": {},
     "output_type": "display_data"
    },
    {
     "name": "stdout",
     "output_type": "stream",
     "text": [
      "Q learning starts..........\n"
     ]
    },
    {
     "name": "stderr",
     "output_type": "stream",
     "text": [
      "  0%|          | 0/20 [00:00<?, ?it/s]"
     ]
    }
   ],
   "source": [
    "reward_fn, alpha_vec = irl(env, alpha_vec, featurizer_vector, scaler, featurizer,\n",
    "                           normalized_data, featureVecDim, policy_dbe)"
   ]
  },
  {
   "cell_type": "code",
   "execution_count": null,
   "metadata": {
    "scrolled": false
   },
   "outputs": [],
   "source": [
    "\"\"\"\n",
    "Code Block generating stats for agent trained through learnt reward function.\n",
    "\"\"\"\n",
    "estimator_f = Estimator(env, scaler, featurizer)\n",
    "reward_plot(alpha_vec,featurizer_vector,scaler)\n",
    "print(\"Q-learning starts:\")\n",
    "\"\"\"\n",
    "** For printing iterations with number of timesteps required, set {print_ep_details=True} in q_learning_testing_rewards().\n",
    "Highly Suggested for starting analysis.\n",
    "\"\"\"\n",
    "success = q_learning_testing_rewards(env, estimator_f, reward_fn , num_episodes=200,render=True,ep_details=False)\n",
    "\n",
    "print(\"Final results in graphs and 3D visualization:\")\n",
    "plotting.plot_cost_to_go_acrobot(env, estimator_f, scaler)\n",
    "plotting.plot_episode_stats(success, smoothing_window=25)"
   ]
  },
  {
   "cell_type": "code",
   "execution_count": null,
   "metadata": {
    "scrolled": false
   },
   "outputs": [],
   "source": [
    "a,b = compare_results(env,estimator_f,estimator_dbe,num_test_trajs=100,epsilon_test=0.0)"
   ]
  },
  {
   "cell_type": "code",
   "execution_count": null,
   "metadata": {},
   "outputs": [],
   "source": [
    "from IPython.display import Video, display\n",
    "\n",
    "# Hiển thị video trong notebook\n",
    "video_path = \"acrobot_videos_2\\\\rl-video-episode-80.mp4\"\n",
    "display(Video(video_path, embed=True, width=600, height=400))\n"
   ]
  }
 ],
 "metadata": {
  "kernelspec": {
   "display_name": "Python 3",
   "language": "python",
   "name": "python3"
  },
  "language_info": {
   "codemirror_mode": {
    "name": "ipython",
    "version": 3
   },
   "file_extension": ".py",
   "mimetype": "text/x-python",
   "name": "python",
   "nbconvert_exporter": "python",
   "pygments_lexer": "ipython3",
   "version": "3.10.0"
  }
 },
 "nbformat": 4,
 "nbformat_minor": 2
}
